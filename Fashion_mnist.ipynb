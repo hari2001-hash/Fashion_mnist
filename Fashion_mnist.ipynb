{
 "cells": [
  {
   "cell_type": "code",
   "execution_count": 1,
   "source": [
    "import tensorflow as tf"
   ],
   "outputs": [],
   "metadata": {}
  },
  {
   "cell_type": "code",
   "execution_count": 6,
   "source": [
    "def train_mnist():\r\n",
    "    # Please write your code only where you are indicated.\r\n",
    "    # please do not remove # model fitting inline comments.\r\n",
    "\r\n",
    "    # YOUR CODE SHOULD START HERE\r\n",
    "    class myCallback(tf.keras.callbacks.Callback):\r\n",
    "        def on_epoch_end(self, epoch, logs={}):\r\n",
    "            if(logs.get('accuracy')>0.99):\r\n",
    "              print(\"\\nReached 99% accuracy so cancelling training!\")\r\n",
    "              self.model.stop_training = True\r\n",
    "    # YOUR CODE SHOULD END HERE\r\n",
    "\r\n",
    "    mnist = tf.keras.datasets.mnist\r\n",
    "\r\n",
    "    (x_train, y_train),(x_test, y_test) = mnist.load_data()\r\n",
    "    # YOUR CODE SHOULD START HERE\r\n",
    "    x_train, x_test = x_train / 255.0, x_test / 255.0\r\n",
    "    callbacks = myCallback()\r\n",
    "    # YOUR CODE SHOULD END HERE\r\n",
    "    model = tf.keras.models.Sequential([\r\n",
    "        # YOUR CODE SHOULD START HERE\r\n",
    "      tf.keras.layers.Flatten(input_shape=(28, 28)),\r\n",
    "      tf.keras.layers.Dense(512, activation=tf.nn.relu),\r\n",
    "      tf.keras.layers.Dense(10, activation=tf.nn.softmax)\r\n",
    "        # YOUR CODE SHOULD END HERE\r\n",
    "    ])\r\n",
    "\r\n",
    "    model.compile(optimizer='adam',\r\n",
    "                  loss='sparse_categorical_crossentropy',\r\n",
    "                  metrics=['accuracy'])\r\n",
    "    \r\n",
    "    # model fitting\r\n",
    "    history = model.fit(x_train, y_train, epochs=10, callbacks=[callbacks])\r\n",
    "    # model fitting\r\n",
    "    return history.epoch, history.history['accuracy'][-1]\r\n"
   ],
   "outputs": [],
   "metadata": {}
  },
  {
   "cell_type": "code",
   "execution_count": 7,
   "source": [
    "train_mnist()\r\n"
   ],
   "outputs": [
    {
     "output_type": "stream",
     "name": "stdout",
     "text": [
      "Epoch 1/10\n",
      "1875/1875 [==============================] - 3s 2ms/step - loss: 0.2003 - accuracy: 0.9418\n",
      "Epoch 2/10\n",
      "1875/1875 [==============================] - 3s 1ms/step - loss: 0.0800 - accuracy: 0.9758\n",
      "Epoch 3/10\n",
      "1875/1875 [==============================] - 3s 2ms/step - loss: 0.0530 - accuracy: 0.9838\n",
      "Epoch 4/10\n",
      "1875/1875 [==============================] - 3s 2ms/step - loss: 0.0377 - accuracy: 0.9879\n",
      "Epoch 5/10\n",
      "1875/1875 [==============================] - 3s 1ms/step - loss: 0.0264 - accuracy: 0.9919\n",
      "\n",
      "Reached 99% accuracy so cancelling training!\n"
     ]
    },
    {
     "output_type": "execute_result",
     "data": {
      "text/plain": [
       "([0, 1, 2, 3, 4], 0.9919333457946777)"
      ]
     },
     "metadata": {},
     "execution_count": 7
    }
   ],
   "metadata": {}
  },
  {
   "cell_type": "code",
   "execution_count": null,
   "source": [],
   "outputs": [],
   "metadata": {}
  }
 ],
 "metadata": {
  "kernelspec": {
   "display_name": "Python 3",
   "language": "python",
   "name": "python3"
  },
  "language_info": {
   "codemirror_mode": {
    "name": "ipython",
    "version": 3
   },
   "file_extension": ".py",
   "mimetype": "text/x-python",
   "name": "python",
   "nbconvert_exporter": "python",
   "pygments_lexer": "ipython3",
   "version": "3.8.8"
  }
 },
 "nbformat": 4,
 "nbformat_minor": 5
}